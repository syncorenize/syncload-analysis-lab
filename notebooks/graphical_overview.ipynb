{
 "cells": [
  {
   "cell_type": "code",
   "id": "initial_id",
   "metadata": {
    "collapsed": true
   },
   "source": [
    "# Load packages\n",
    "import pandas as pd\n",
    "import matplotlib.pyplot as plt\n",
    "import numpy as np\n",
    "\n",
    "# Load dataset\n",
    "df = pd.read_csv(\"../datasets/sample_2.csv\")  \n",
    "df['StartTime'] = pd.to_datetime(df['StartTime'])\n",
    "df['ResponseTimeMs'] = df['ResponseTime'] / 1000  # microseconds → ms\n",
    "\n",
    "# Compute summary statistics\n",
    "summary = {\n",
    "    'Total Requests': len(df),\n",
    "    'Successful Requests': df['Success'].sum(),\n",
    "    'Failed Requests': len(df) - df['Success'].sum(),\n",
    "    'Average Response Time (ms)': round(df['ResponseTimeMs'].mean(), 2),\n",
    "    'Min Response Time (ms)': df['ResponseTimeMs'].min(),\n",
    "    'Max Response Time (ms)': df['ResponseTimeMs'].max(),\n",
    "    'P95 Response Time (ms)': np.percentile(df['ResponseTimeMs'], 95),\n",
    "    'Error Rate (%)': round((~df['Success']).sum() / len(df) * 100, 2)\n",
    "}\n",
    "\n",
    "# Display stats\n",
    "pd.DataFrame.from_dict(summary, orient='index', columns=['Value'])"
   ],
   "outputs": [],
   "execution_count": null
  },
  {
   "metadata": {},
   "cell_type": "markdown",
   "source": "# Response Time Histogram",
   "id": "abe2baf2ac4cc3cc"
  },
  {
   "metadata": {},
   "cell_type": "code",
   "source": [
    "plt.figure(figsize=(10, 6))\n",
    "plt.hist(df['ResponseTimeMs'], bins=30, color='gray', edgecolor='black')\n",
    "plt.title(\"Response Time Distribution\")\n",
    "plt.xlabel(\"Response Time (ms)\")\n",
    "plt.ylabel(\"Number of Requests\")\n",
    "plt.grid(True)\n",
    "plt.show()"
   ],
   "id": "718af290ee7b6b91",
   "outputs": [],
   "execution_count": null
  },
  {
   "metadata": {},
   "cell_type": "markdown",
   "source": "# Response Time over Time",
   "id": "5af3c0119a61012a"
  },
  {
   "metadata": {},
   "cell_type": "code",
   "source": [
    "plt.figure(figsize=(10, 6))\n",
    "plt.plot(df['StartTime'], df['ResponseTimeMs'], marker='o', linestyle='-', markersize=3)\n",
    "plt.title(\"Response Time over Time\")\n",
    "plt.xlabel(\"Time\")\n",
    "plt.ylabel(\"Response Time (ms)\")\n",
    "plt.grid(True)\n",
    "plt.tight_layout()\n",
    "plt.show()"
   ],
   "id": "be0e839f63fe710d",
   "outputs": [],
   "execution_count": null
  },
  {
   "metadata": {},
   "cell_type": "markdown",
   "source": "# Response Codes Bar Chart",
   "id": "4699c26c9bfcb38f"
  },
  {
   "metadata": {},
   "cell_type": "code",
   "source": [
    "plt.figure(figsize=(8, 5))\n",
    "df['StatusCode'].value_counts().sort_index().plot(kind='bar', color='skyblue', edgecolor='black')\n",
    "plt.title(\"Response Codes\")\n",
    "plt.xlabel(\"Status Code\")\n",
    "plt.ylabel(\"Count\")\n",
    "plt.grid(axis='y')\n",
    "plt.tight_layout()\n",
    "plt.show()"
   ],
   "id": "ab3d72196c21ebb3",
   "outputs": [],
   "execution_count": null
  },
  {
   "metadata": {},
   "cell_type": "markdown",
   "source": "# Requests Over Time",
   "id": "6a8da86009189f8b"
  },
  {
   "metadata": {},
   "cell_type": "code",
   "source": [
    "plt.figure(figsize=(10, 5))\n",
    "df['TimeBucket'] = df['StartTime'].dt.floor('s')  # Round to full seconds\n",
    "df.groupby('TimeBucket').size().plot(\n",
    "    kind='line',\n",
    "    marker='o',\n",
    "    linestyle='-',\n",
    "    color='steelblue'\n",
    ")\n",
    "plt.title(\"Requests Over Time\")\n",
    "plt.xlabel(\"Time (by second)\")\n",
    "plt.ylabel(\"Number of Requests\")\n",
    "plt.grid(True)\n",
    "plt.tight_layout()\n",
    "plt.show()"
   ],
   "id": "a1b3b8d75f868e09",
   "outputs": [],
   "execution_count": null
  }
 ],
 "metadata": {
  "kernelspec": {
   "display_name": "Python 3",
   "language": "python",
   "name": "python3"
  },
  "language_info": {
   "codemirror_mode": {
    "name": "ipython",
    "version": 2
   },
   "file_extension": ".py",
   "mimetype": "text/x-python",
   "name": "python",
   "nbconvert_exporter": "python",
   "pygments_lexer": "ipython2",
   "version": "2.7.6"
  }
 },
 "nbformat": 4,
 "nbformat_minor": 5
}
